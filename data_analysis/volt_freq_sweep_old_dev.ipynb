{
 "cells": [
  {
   "cell_type": "code",
   "execution_count": 1,
   "metadata": {},
   "outputs": [],
   "source": [
    "import numpy as np\n",
    "import pandas as pd\n",
    "import os\n",
    "import matplotlib.pyplot as plt\n",
    "import scienceplots\n",
    "plt.style.use(\"science\")\n",
    "from pymatreader import read_mat\n",
    "import IPython\n",
    "from pathlib import Path\n",
    "from utilities import savefig"
   ]
  },
  {
   "cell_type": "code",
   "execution_count": 2,
   "metadata": {},
   "outputs": [],
   "source": [
    "NB_NAME = Path(IPython.extract_module_locals()[1][\"__vsc_ipynb_file__\"]).stem"
   ]
  },
  {
   "cell_type": "code",
   "execution_count": 14,
   "metadata": {},
   "outputs": [],
   "source": [
    "DATAPATH = os.path.join(\n",
    "    os.path.abspath(\"\"), \"data\", \"volt_freq_sweep_old_dev\"\n",
    ")\n",
    "\n",
    "sweep1 = os.path.join(\n",
    "    DATAPATH,\n",
    "    \"FreqVoltageScan_APD_Source_C1_SPhw_A248r66_first_Col2__931_20241121-153158_CTL_CW_317p5THz_5000GHz_0p13uW.mat\",\n",
    ")\n",
    "\n",
    "data1 = read_mat(sweep1)[\"Data\"]"
   ]
  },
  {
   "cell_type": "code",
   "execution_count": 15,
   "metadata": {},
   "outputs": [
    {
     "data": {
      "text/plain": [
       "array([ 1. ,  0.8,  0.6,  0.4,  0.2,  0. , -0.2, -0.4, -0.6, -0.8, -1. ,\n",
       "       -1.2, -1.4, -1.6, -1.8, -2. , -2.2, -2.4, -2.6, -2.8, -3. , -3.2,\n",
       "       -3.4, -3.6, -3.8, -4. ])"
      ]
     },
     "execution_count": 15,
     "metadata": {},
     "output_type": "execute_result"
    }
   ],
   "source": [
    "data1[\"VoltageList\"]"
   ]
  },
  {
   "cell_type": "code",
   "execution_count": 17,
   "metadata": {},
   "outputs": [
    {
     "data": {
      "text/plain": [
       "dict_keys(['Comment', 'Wafer', 'Sample', 'Structure', 'Cryostat', 'Breadboard', 'ND', 'Detector', 'BS', 'NDtrans', 'QD', 'CollectionPortOUT1F', 'CollectionPortOUT2F', 'ExcitationPortF', 'TemperatureK', 'VoltageSource', 'ElectronicFilter', 'SignalCh', 'Summary', 'polHWP', 'polQWP', 'Laser', 'TimeBin', 'TimeMeasure', 'nBins', 'scanFreq', 'isFreqLocked', 'FreqCenter', 'FreqSpan', 'FreqStep', 'WavelengthStart', 'WavelengthStop', 'WavelengthStep', 'scanPower', 'scanVolt', 'fastVoltsweep', 'VoltageOff', 'VoltageStart', 'VoltageEnd', 'VoltageStep', 'VoltageSettlingTime', 'SyncCh', 'FreqSettlingTime', 'CountsOff', 'Experiment', 'Power', 'M_freq', 'Freq', 'FreqList', 'VoltageList', 'StartTime', 'DarkCounts', 'MeasuredFreq', 'MeasureCounts'])"
      ]
     },
     "execution_count": 17,
     "metadata": {},
     "output_type": "execute_result"
    }
   ],
   "source": [
    "data1.keys()"
   ]
  },
  {
   "cell_type": "code",
   "execution_count": null,
   "metadata": {},
   "outputs": [],
   "source": []
  }
 ],
 "metadata": {
  "kernelspec": {
   "display_name": "university",
   "language": "python",
   "name": "python3"
  },
  "language_info": {
   "codemirror_mode": {
    "name": "ipython",
    "version": 3
   },
   "file_extension": ".py",
   "mimetype": "text/x-python",
   "name": "python",
   "nbconvert_exporter": "python",
   "pygments_lexer": "ipython3",
   "version": "3.11.5"
  }
 },
 "nbformat": 4,
 "nbformat_minor": 2
}
